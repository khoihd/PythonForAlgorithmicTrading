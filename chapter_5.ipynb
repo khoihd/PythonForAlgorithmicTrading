{
 "cells": [
  {
   "cell_type": "code",
   "execution_count": 29,
   "id": "e40b13f7",
   "metadata": {},
   "outputs": [],
   "source": [
    "import pandas as pd\n",
    "import numpy as np"
   ]
  },
  {
   "cell_type": "code",
   "execution_count": 30,
   "id": "c8866bae",
   "metadata": {},
   "outputs": [],
   "source": [
    "raw = pd.read_csv('http://hilpisch.com/pyalgo_eikon_eod_data.csv',\n",
    "                           index_col=0, parse_dates=True).dropna()"
   ]
  },
  {
   "cell_type": "code",
   "execution_count": 31,
   "id": "1e4e6336",
   "metadata": {},
   "outputs": [],
   "source": [
    "data = pd.DataFrame(raw['EUR='])"
   ]
  },
  {
   "cell_type": "code",
   "execution_count": 32,
   "id": "e4bc7fd0",
   "metadata": {},
   "outputs": [],
   "source": [
    "data.rename(columns={'EUR=': 'price'}, inplace=True)"
   ]
  },
  {
   "cell_type": "code",
   "execution_count": 33,
   "id": "ea356ae9",
   "metadata": {},
   "outputs": [],
   "source": [
    "lags = 5"
   ]
  },
  {
   "cell_type": "code",
   "execution_count": 35,
   "id": "b92b5bd8",
   "metadata": {},
   "outputs": [],
   "source": [
    "cols = []\n",
    "for lag in range(1, lags + 1):\n",
    "    col = f'lag_{lag}'\n",
    "    data[col] = data['price'].shift(lag)\n",
    "    cols.append(col)\n",
    "    data.dropna(inplace=True)"
   ]
  },
  {
   "cell_type": "code",
   "execution_count": 36,
   "id": "d0bf8fc8",
   "metadata": {},
   "outputs": [],
   "source": [
    "reg = np.linalg.lstsq(data[cols], data['price'],\n",
    "                               rcond=None)[0]"
   ]
  },
  {
   "cell_type": "code",
   "execution_count": 37,
   "id": "69556dce",
   "metadata": {},
   "outputs": [
    {
     "data": {
      "text/plain": [
       "array([ 0.98243806,  0.02602424, -0.04776545,  0.05253327, -0.01333633])"
      ]
     },
     "execution_count": 37,
     "metadata": {},
     "output_type": "execute_result"
    }
   ],
   "source": [
    "reg"
   ]
  },
  {
   "cell_type": "code",
   "execution_count": null,
   "id": "304204b5",
   "metadata": {},
   "outputs": [],
   "source": []
  }
 ],
 "metadata": {
  "kernelspec": {
   "display_name": "Python 3",
   "language": "python",
   "name": "python3"
  },
  "language_info": {
   "codemirror_mode": {
    "name": "ipython",
    "version": 3
   },
   "file_extension": ".py",
   "mimetype": "text/x-python",
   "name": "python",
   "nbconvert_exporter": "python",
   "pygments_lexer": "ipython3",
   "version": "3.8.6"
  }
 },
 "nbformat": 4,
 "nbformat_minor": 5
}
