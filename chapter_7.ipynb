{
 "cells": [
  {
   "cell_type": "code",
   "execution_count": null,
   "id": "913fcd48",
   "metadata": {},
   "outputs": [],
   "source": [
    "import zmq\n",
    "import math\n",
    "import time\n",
    "import random"
   ]
  },
  {
   "cell_type": "code",
   "execution_count": null,
   "id": "04d25a6d",
   "metadata": {},
   "outputs": [],
   "source": [
    "context = zmq.Context()\n",
    "socket = context.socket(zmq.PUB)\n",
    "socket.bind(\"tcp://0.0.0.0:5555\")"
   ]
  },
  {
   "cell_type": "code",
   "execution_count": null,
   "id": "cde155a6",
   "metadata": {},
   "outputs": [],
   "source": [
    "class InstrumentPrice():\n",
    "    def __init__(self):\n",
    "        self.symbol = \"SYMBOL\"\n",
    "        self.t = time.time()\n",
    "        self.value = 100.\n",
    "        self.sigma = 0.4\n",
    "        self.r = 0.01\n",
    "    \n",
    "    def simulate_value(self):\n",
    "        t = time.time()\n",
    "        dt = (t - self.t) / (252 * 8 * 60 * 60)\n",
    "        dt *= 500\n",
    "        self.t = t\n",
    "        self.value *= math.exp((self.r - 0.5*self.sigma**2) * dt \\\n",
    "                              + self.sigma*math.sqrt(dt)*random.gauss(0, 1))\n",
    "        return self.value"
   ]
  },
  {
   "cell_type": "code",
   "execution_count": null,
   "id": "e7e60e78",
   "metadata": {},
   "outputs": [],
   "source": [
    "ip = InstrumentPrice()\n",
    "\n",
    "while True:\n",
    "    msg = '{} {:.2f}'.format(ip.symbol, ip.simulate_value())\n",
    "    print(msg)\n",
    "    socket.send_string(msg)\n",
    "    time.sleep(random.random() * 2)"
   ]
  },
  {
   "cell_type": "code",
   "execution_count": null,
   "id": "59db6f4a",
   "metadata": {},
   "outputs": [],
   "source": []
  }
 ],
 "metadata": {
  "kernelspec": {
   "display_name": "Python 3 (ipykernel)",
   "language": "python",
   "name": "python3"
  },
  "language_info": {
   "codemirror_mode": {
    "name": "ipython",
    "version": 3
   },
   "file_extension": ".py",
   "mimetype": "text/x-python",
   "name": "python",
   "nbconvert_exporter": "python",
   "pygments_lexer": "ipython3",
   "version": "3.8.6"
  }
 },
 "nbformat": 4,
 "nbformat_minor": 5
}
