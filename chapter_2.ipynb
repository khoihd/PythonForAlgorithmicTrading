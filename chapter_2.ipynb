{
 "cells": [
  {
   "cell_type": "code",
   "execution_count": 29,
   "id": "e0917e14",
   "metadata": {},
   "outputs": [],
   "source": [
    "import quandl as q\n",
    "import pandas as pd\n",
    "q.ApiConfig.api_key = 'noDzHhXh6FfvEUFaBFi9'"
   ]
  },
  {
   "cell_type": "code",
   "execution_count": 15,
   "id": "d8cadc17",
   "metadata": {},
   "outputs": [],
   "source": [
    "data = q.get('FSE/SAP_X', start_date='2018-1-1',\n",
    "                      end_date='2020-05-01')"
   ]
  },
  {
   "cell_type": "code",
   "execution_count": 16,
   "id": "d85ea8f0",
   "metadata": {},
   "outputs": [
    {
     "name": "stdout",
     "output_type": "stream",
     "text": [
      "<class 'pandas.core.frame.DataFrame'>\n",
      "DatetimeIndex: 579 entries, 2018-01-02 to 2020-04-30\n",
      "Data columns (total 10 columns):\n",
      " #   Column                 Non-Null Count  Dtype  \n",
      "---  ------                 --------------  -----  \n",
      " 0   Open                   257 non-null    float64\n",
      " 1   High                   579 non-null    float64\n",
      " 2   Low                    579 non-null    float64\n",
      " 3   Close                  579 non-null    float64\n",
      " 4   Change                 0 non-null      object \n",
      " 5   Traded Volume          533 non-null    float64\n",
      " 6   Turnover               533 non-null    float64\n",
      " 7   Last Price of the Day  0 non-null      object \n",
      " 8   Daily Traded Units     0 non-null      object \n",
      " 9   Daily Turnover         0 non-null      object \n",
      "dtypes: float64(6), object(4)\n",
      "memory usage: 49.8+ KB\n"
     ]
    }
   ],
   "source": [
    "data.info()"
   ]
  },
  {
   "cell_type": "code",
   "execution_count": 17,
   "id": "d00a191c",
   "metadata": {},
   "outputs": [],
   "source": [
    "vol = q.get('VOL/MSFT')"
   ]
  },
  {
   "cell_type": "code",
   "execution_count": 21,
   "id": "a90a0d09",
   "metadata": {},
   "outputs": [
    {
     "data": {
      "text/html": [
       "<div>\n",
       "<style scoped>\n",
       "    .dataframe tbody tr th:only-of-type {\n",
       "        vertical-align: middle;\n",
       "    }\n",
       "\n",
       "    .dataframe tbody tr th {\n",
       "        vertical-align: top;\n",
       "    }\n",
       "\n",
       "    .dataframe thead th {\n",
       "        text-align: right;\n",
       "    }\n",
       "</style>\n",
       "<table border=\"1\" class=\"dataframe\">\n",
       "  <thead>\n",
       "    <tr style=\"text-align: right;\">\n",
       "      <th></th>\n",
       "      <th>IvMean30</th>\n",
       "      <th>IvMean60</th>\n",
       "      <th>IvMean90</th>\n",
       "    </tr>\n",
       "    <tr>\n",
       "      <th>Date</th>\n",
       "      <th></th>\n",
       "      <th></th>\n",
       "      <th></th>\n",
       "    </tr>\n",
       "  </thead>\n",
       "  <tbody>\n",
       "    <tr>\n",
       "      <th>2018-12-24</th>\n",
       "      <td>0.4310</td>\n",
       "      <td>0.4112</td>\n",
       "      <td>0.3829</td>\n",
       "    </tr>\n",
       "    <tr>\n",
       "      <th>2018-12-26</th>\n",
       "      <td>0.4059</td>\n",
       "      <td>0.3844</td>\n",
       "      <td>0.3587</td>\n",
       "    </tr>\n",
       "    <tr>\n",
       "      <th>2018-12-27</th>\n",
       "      <td>0.3918</td>\n",
       "      <td>0.3879</td>\n",
       "      <td>0.3618</td>\n",
       "    </tr>\n",
       "    <tr>\n",
       "      <th>2018-12-28</th>\n",
       "      <td>0.3940</td>\n",
       "      <td>0.3736</td>\n",
       "      <td>0.3482</td>\n",
       "    </tr>\n",
       "    <tr>\n",
       "      <th>2018-12-31</th>\n",
       "      <td>0.3760</td>\n",
       "      <td>0.3519</td>\n",
       "      <td>0.3310</td>\n",
       "    </tr>\n",
       "  </tbody>\n",
       "</table>\n",
       "</div>"
      ],
      "text/plain": [
       "            IvMean30  IvMean60  IvMean90\n",
       "Date                                    \n",
       "2018-12-24    0.4310    0.4112    0.3829\n",
       "2018-12-26    0.4059    0.3844    0.3587\n",
       "2018-12-27    0.3918    0.3879    0.3618\n",
       "2018-12-28    0.3940    0.3736    0.3482\n",
       "2018-12-31    0.3760    0.3519    0.3310"
      ]
     },
     "execution_count": 21,
     "metadata": {},
     "output_type": "execute_result"
    }
   ],
   "source": [
    "vol[['IvMean30', 'IvMean60', 'IvMean90']].tail()"
   ]
  },
  {
   "cell_type": "code",
   "execution_count": 24,
   "id": "0bd665e7",
   "metadata": {},
   "outputs": [],
   "source": [
    "from sample_data import generate_sample_data"
   ]
  },
  {
   "cell_type": "code",
   "execution_count": 26,
   "id": "77eb3f17",
   "metadata": {},
   "outputs": [
    {
     "name": "stdout",
     "output_type": "stream",
     "text": [
      "CPU times: user 1.42 s, sys: 339 ms, total: 1.76 s\n",
      "Wall time: 1.85 s\n"
     ]
    }
   ],
   "source": [
    "%time data = generate_sample_data(rows=5e6, cols=10).round(4)"
   ]
  },
  {
   "cell_type": "code",
   "execution_count": 27,
   "id": "55c3bf4b",
   "metadata": {},
   "outputs": [
    {
     "name": "stdout",
     "output_type": "stream",
     "text": [
      "<class 'pandas.core.frame.DataFrame'>\n",
      "DatetimeIndex: 5000000 entries, 2021-01-01 00:00:00 to 2030-07-05 05:19:00\n",
      "Freq: T\n",
      "Data columns (total 10 columns):\n",
      " #   Column  Dtype  \n",
      "---  ------  -----  \n",
      " 0   No0     float64\n",
      " 1   No1     float64\n",
      " 2   No2     float64\n",
      " 3   No3     float64\n",
      " 4   No4     float64\n",
      " 5   No5     float64\n",
      " 6   No6     float64\n",
      " 7   No7     float64\n",
      " 8   No8     float64\n",
      " 9   No9     float64\n",
      "dtypes: float64(10)\n",
      "memory usage: 419.6 MB\n"
     ]
    }
   ],
   "source": [
    "data.info()"
   ]
  },
  {
   "cell_type": "code",
   "execution_count": 30,
   "id": "40f90ecd",
   "metadata": {},
   "outputs": [],
   "source": [
    "h5 = pd.HDFStore('data/data.h5', 'w')"
   ]
  },
  {
   "cell_type": "code",
   "execution_count": 31,
   "id": "e4a50a27",
   "metadata": {},
   "outputs": [],
   "source": [
    "import tables as tb"
   ]
  },
  {
   "cell_type": "code",
   "execution_count": 34,
   "id": "1239437a",
   "metadata": {},
   "outputs": [],
   "source": [
    "data.to_hdf('data/data_table.h5', 'data', format='table')"
   ]
  },
  {
   "cell_type": "code",
   "execution_count": 35,
   "id": "e5c48ab8",
   "metadata": {},
   "outputs": [],
   "source": [
    "import sqlite3 as sq3"
   ]
  },
  {
   "cell_type": "code",
   "execution_count": 37,
   "id": "b31f2e17",
   "metadata": {},
   "outputs": [
    {
     "name": "stdout",
     "output_type": "stream",
     "text": [
      "CPU times: user 169 ms, sys: 31.1 ms, total: 200 ms\n",
      "Wall time: 206 ms\n"
     ]
    }
   ],
   "source": [
    "%time data = generate_sample_data(1e6, 5, '1min').round(4)"
   ]
  },
  {
   "cell_type": "code",
   "execution_count": 38,
   "id": "24bb9112",
   "metadata": {},
   "outputs": [],
   "source": [
    "con = sq3.connect('data/data.sql')"
   ]
  },
  {
   "cell_type": "code",
   "execution_count": 39,
   "id": "7e538249",
   "metadata": {},
   "outputs": [
    {
     "name": "stdout",
     "output_type": "stream",
     "text": [
      "CPU times: user 1.84 s, sys: 122 ms, total: 1.96 s\n",
      "Wall time: 2.04 s\n"
     ]
    },
    {
     "data": {
      "text/plain": [
       "1000000"
      ]
     },
     "execution_count": 39,
     "metadata": {},
     "output_type": "execute_result"
    }
   ],
   "source": [
    "%time data.to_sql('data', con)"
   ]
  },
  {
   "cell_type": "code",
   "execution_count": 40,
   "id": "62f067c7",
   "metadata": {},
   "outputs": [],
   "source": [
    "query = 'SELECT * FROM data WHERE No1 > 105 and No2 < 108'"
   ]
  },
  {
   "cell_type": "code",
   "execution_count": 41,
   "id": "887ec66f",
   "metadata": {},
   "outputs": [
    {
     "name": "stdout",
     "output_type": "stream",
     "text": [
      "CPU times: user 627 ms, sys: 83.3 ms, total: 710 ms\n",
      "Wall time: 845 ms\n"
     ]
    }
   ],
   "source": [
    "%time res = con.execute(query).fetchall() "
   ]
  },
  {
   "cell_type": "code",
   "execution_count": null,
   "id": "07d0b1a6",
   "metadata": {},
   "outputs": [],
   "source": []
  }
 ],
 "metadata": {
  "kernelspec": {
   "display_name": "Python 3",
   "language": "python",
   "name": "python3"
  },
  "language_info": {
   "codemirror_mode": {
    "name": "ipython",
    "version": 3
   },
   "file_extension": ".py",
   "mimetype": "text/x-python",
   "name": "python",
   "nbconvert_exporter": "python",
   "pygments_lexer": "ipython3",
   "version": "3.8.6"
  }
 },
 "nbformat": 4,
 "nbformat_minor": 5
}
