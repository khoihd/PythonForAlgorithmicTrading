{
 "cells": [
  {
   "cell_type": "code",
   "execution_count": 1,
   "id": "a23e0590",
   "metadata": {},
   "outputs": [],
   "source": [
    "import zmq\n",
    "from datetime import datetime\n",
    "import plotly.graph_objects as go"
   ]
  },
  {
   "cell_type": "code",
   "execution_count": 2,
   "id": "b89cc134",
   "metadata": {},
   "outputs": [],
   "source": [
    "symbol = 'SYMBOL'"
   ]
  },
  {
   "cell_type": "code",
   "execution_count": 3,
   "id": "447f5a3a",
   "metadata": {},
   "outputs": [
    {
     "data": {
      "application/vnd.jupyter.widget-view+json": {
       "model_id": "11d99e4183a84c829aafe2b9de6caf7b",
       "version_major": 2,
       "version_minor": 0
      },
      "text/plain": [
       "FigureWidget({\n",
       "    'data': [{'type': 'scatter', 'uid': 'd9c27751-ef3b-4d09-814c-0a725d3af587'}], 'layout': {'template': '...'}\n",
       "})"
      ]
     },
     "execution_count": 3,
     "metadata": {},
     "output_type": "execute_result"
    }
   ],
   "source": [
    "fig = go.FigureWidget()\n",
    "fig.add_scatter()\n",
    "fig"
   ]
  },
  {
   "cell_type": "code",
   "execution_count": 4,
   "id": "7d96482a",
   "metadata": {},
   "outputs": [],
   "source": [
    "context = zmq.Context()\n",
    "socket = context.socket(zmq.SUB)\n",
    "socket.connect('tcp://0.0.0.0:5555')\n",
    "socket.setsockopt_string(zmq.SUBSCRIBE, 'SYMBOL')"
   ]
  },
  {
   "cell_type": "code",
   "execution_count": 6,
   "id": "2ffe2456",
   "metadata": {},
   "outputs": [],
   "source": [
    "times, prices = [], []\n",
    "for _ in range(50):\n",
    "    msg = socket.recv_string()\n",
    "    t = datetime.now()\n",
    "    times.append(t)\n",
    "    _, price = msg.split()\n",
    "    prices.append(float(price))\n",
    "    fig.data[0].x = times\n",
    "    fig.data[0].y = prices"
   ]
  },
  {
   "cell_type": "code",
   "execution_count": null,
   "id": "06c6271e",
   "metadata": {},
   "outputs": [],
   "source": []
  }
 ],
 "metadata": {
  "kernelspec": {
   "display_name": "Python 3 (ipykernel)",
   "language": "python",
   "name": "python3"
  },
  "language_info": {
   "codemirror_mode": {
    "name": "ipython",
    "version": 3
   },
   "file_extension": ".py",
   "mimetype": "text/x-python",
   "name": "python",
   "nbconvert_exporter": "python",
   "pygments_lexer": "ipython3",
   "version": "3.8.6"
  }
 },
 "nbformat": 4,
 "nbformat_minor": 5
}
